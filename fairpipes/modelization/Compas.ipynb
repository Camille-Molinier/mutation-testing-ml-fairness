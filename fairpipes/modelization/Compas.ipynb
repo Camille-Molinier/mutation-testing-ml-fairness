{
 "cells": [
  {
   "cell_type": "markdown",
   "source": [
    "# Compas modelization"
   ],
   "metadata": {
    "collapsed": false
   }
  },
  {
   "cell_type": "code",
   "execution_count": 1,
   "outputs": [],
   "source": [
    "import pandas as pd"
   ],
   "metadata": {
    "collapsed": false
   }
  },
  {
   "cell_type": "markdown",
   "source": [
    "## Load data"
   ],
   "metadata": {
    "collapsed": false
   }
  },
  {
   "cell_type": "code",
   "execution_count": 2,
   "outputs": [
    {
     "data": {
      "text/plain": "   id                name      first         last compas_screening_date  \\\n0   1    miguel hernandez     miguel    hernandez            2013-08-14   \n1   3         kevon dixon      kevon        dixon            2013-01-27   \n2   4            ed philo         ed        philo            2013-04-14   \n3   5         marcu brown      marcu        brown            2013-01-13   \n4   6  bouthy pierrelouis     bouthy  pierrelouis            2013-03-26   \n5   7        marsha miles     marsha        miles            2013-11-30   \n6   8       edward riddle     edward       riddle            2014-02-19   \n7   9      steven stewart     steven      stewart            2013-08-30   \n8  10    elizabeth thieme  elizabeth       thieme            2014-03-16   \n9  13           bo bradac         bo       bradac            2013-11-04   \n\n      sex         dob  age          age_cat              race  ...  \\\n0    Male  1947-04-18   69  Greater than 45             Other  ...   \n1    Male  1982-01-22   34          25 - 45  African-American  ...   \n2    Male  1991-05-14   24     Less than 25  African-American  ...   \n3    Male  1993-01-21   23     Less than 25  African-American  ...   \n4    Male  1973-01-22   43          25 - 45             Other  ...   \n5    Male  1971-08-22   44          25 - 45             Other  ...   \n6    Male  1974-07-23   41          25 - 45         Caucasian  ...   \n7    Male  1973-02-25   43          25 - 45             Other  ...   \n8  Female  1976-06-03   39          25 - 45         Caucasian  ...   \n9    Male  1994-06-10   21     Less than 25         Caucasian  ...   \n\n   v_decile_score  v_score_text  v_screening_date  in_custody  out_custody  \\\n0               1           Low        2013-08-14  2014-07-07   2014-07-14   \n1               1           Low        2013-01-27  2013-01-26   2013-02-05   \n2               3           Low        2013-04-14  2013-06-16   2013-06-16   \n3               6        Medium        2013-01-13         NaN          NaN   \n4               1           Low        2013-03-26         NaN          NaN   \n5               1           Low        2013-11-30  2013-11-30   2013-12-01   \n6               2           Low        2014-02-19  2014-03-31   2014-04-18   \n7               3           Low        2013-08-30  2014-05-22   2014-06-03   \n8               1           Low        2014-03-16  2014-03-15   2014-03-18   \n9               5        Medium        2013-11-04  2015-01-06   2015-01-07   \n\n   priors_count.1 start   end event two_year_recid  \n0               0     0   327     0              0  \n1               0     9   159     1              1  \n2               4     0    63     0              1  \n3               1     0  1174     0              0  \n4               2     0  1102     0              0  \n5               0     1   853     0              0  \n6              14     5    40     1              1  \n7               3     0   265     0              0  \n8               0     2   747     0              0  \n9               1     0   428     1              1  \n\n[10 rows x 53 columns]",
      "text/html": "<div>\n<style scoped>\n    .dataframe tbody tr th:only-of-type {\n        vertical-align: middle;\n    }\n\n    .dataframe tbody tr th {\n        vertical-align: top;\n    }\n\n    .dataframe thead th {\n        text-align: right;\n    }\n</style>\n<table border=\"1\" class=\"dataframe\">\n  <thead>\n    <tr style=\"text-align: right;\">\n      <th></th>\n      <th>id</th>\n      <th>name</th>\n      <th>first</th>\n      <th>last</th>\n      <th>compas_screening_date</th>\n      <th>sex</th>\n      <th>dob</th>\n      <th>age</th>\n      <th>age_cat</th>\n      <th>race</th>\n      <th>...</th>\n      <th>v_decile_score</th>\n      <th>v_score_text</th>\n      <th>v_screening_date</th>\n      <th>in_custody</th>\n      <th>out_custody</th>\n      <th>priors_count.1</th>\n      <th>start</th>\n      <th>end</th>\n      <th>event</th>\n      <th>two_year_recid</th>\n    </tr>\n  </thead>\n  <tbody>\n    <tr>\n      <th>0</th>\n      <td>1</td>\n      <td>miguel hernandez</td>\n      <td>miguel</td>\n      <td>hernandez</td>\n      <td>2013-08-14</td>\n      <td>Male</td>\n      <td>1947-04-18</td>\n      <td>69</td>\n      <td>Greater than 45</td>\n      <td>Other</td>\n      <td>...</td>\n      <td>1</td>\n      <td>Low</td>\n      <td>2013-08-14</td>\n      <td>2014-07-07</td>\n      <td>2014-07-14</td>\n      <td>0</td>\n      <td>0</td>\n      <td>327</td>\n      <td>0</td>\n      <td>0</td>\n    </tr>\n    <tr>\n      <th>1</th>\n      <td>3</td>\n      <td>kevon dixon</td>\n      <td>kevon</td>\n      <td>dixon</td>\n      <td>2013-01-27</td>\n      <td>Male</td>\n      <td>1982-01-22</td>\n      <td>34</td>\n      <td>25 - 45</td>\n      <td>African-American</td>\n      <td>...</td>\n      <td>1</td>\n      <td>Low</td>\n      <td>2013-01-27</td>\n      <td>2013-01-26</td>\n      <td>2013-02-05</td>\n      <td>0</td>\n      <td>9</td>\n      <td>159</td>\n      <td>1</td>\n      <td>1</td>\n    </tr>\n    <tr>\n      <th>2</th>\n      <td>4</td>\n      <td>ed philo</td>\n      <td>ed</td>\n      <td>philo</td>\n      <td>2013-04-14</td>\n      <td>Male</td>\n      <td>1991-05-14</td>\n      <td>24</td>\n      <td>Less than 25</td>\n      <td>African-American</td>\n      <td>...</td>\n      <td>3</td>\n      <td>Low</td>\n      <td>2013-04-14</td>\n      <td>2013-06-16</td>\n      <td>2013-06-16</td>\n      <td>4</td>\n      <td>0</td>\n      <td>63</td>\n      <td>0</td>\n      <td>1</td>\n    </tr>\n    <tr>\n      <th>3</th>\n      <td>5</td>\n      <td>marcu brown</td>\n      <td>marcu</td>\n      <td>brown</td>\n      <td>2013-01-13</td>\n      <td>Male</td>\n      <td>1993-01-21</td>\n      <td>23</td>\n      <td>Less than 25</td>\n      <td>African-American</td>\n      <td>...</td>\n      <td>6</td>\n      <td>Medium</td>\n      <td>2013-01-13</td>\n      <td>NaN</td>\n      <td>NaN</td>\n      <td>1</td>\n      <td>0</td>\n      <td>1174</td>\n      <td>0</td>\n      <td>0</td>\n    </tr>\n    <tr>\n      <th>4</th>\n      <td>6</td>\n      <td>bouthy pierrelouis</td>\n      <td>bouthy</td>\n      <td>pierrelouis</td>\n      <td>2013-03-26</td>\n      <td>Male</td>\n      <td>1973-01-22</td>\n      <td>43</td>\n      <td>25 - 45</td>\n      <td>Other</td>\n      <td>...</td>\n      <td>1</td>\n      <td>Low</td>\n      <td>2013-03-26</td>\n      <td>NaN</td>\n      <td>NaN</td>\n      <td>2</td>\n      <td>0</td>\n      <td>1102</td>\n      <td>0</td>\n      <td>0</td>\n    </tr>\n    <tr>\n      <th>5</th>\n      <td>7</td>\n      <td>marsha miles</td>\n      <td>marsha</td>\n      <td>miles</td>\n      <td>2013-11-30</td>\n      <td>Male</td>\n      <td>1971-08-22</td>\n      <td>44</td>\n      <td>25 - 45</td>\n      <td>Other</td>\n      <td>...</td>\n      <td>1</td>\n      <td>Low</td>\n      <td>2013-11-30</td>\n      <td>2013-11-30</td>\n      <td>2013-12-01</td>\n      <td>0</td>\n      <td>1</td>\n      <td>853</td>\n      <td>0</td>\n      <td>0</td>\n    </tr>\n    <tr>\n      <th>6</th>\n      <td>8</td>\n      <td>edward riddle</td>\n      <td>edward</td>\n      <td>riddle</td>\n      <td>2014-02-19</td>\n      <td>Male</td>\n      <td>1974-07-23</td>\n      <td>41</td>\n      <td>25 - 45</td>\n      <td>Caucasian</td>\n      <td>...</td>\n      <td>2</td>\n      <td>Low</td>\n      <td>2014-02-19</td>\n      <td>2014-03-31</td>\n      <td>2014-04-18</td>\n      <td>14</td>\n      <td>5</td>\n      <td>40</td>\n      <td>1</td>\n      <td>1</td>\n    </tr>\n    <tr>\n      <th>7</th>\n      <td>9</td>\n      <td>steven stewart</td>\n      <td>steven</td>\n      <td>stewart</td>\n      <td>2013-08-30</td>\n      <td>Male</td>\n      <td>1973-02-25</td>\n      <td>43</td>\n      <td>25 - 45</td>\n      <td>Other</td>\n      <td>...</td>\n      <td>3</td>\n      <td>Low</td>\n      <td>2013-08-30</td>\n      <td>2014-05-22</td>\n      <td>2014-06-03</td>\n      <td>3</td>\n      <td>0</td>\n      <td>265</td>\n      <td>0</td>\n      <td>0</td>\n    </tr>\n    <tr>\n      <th>8</th>\n      <td>10</td>\n      <td>elizabeth thieme</td>\n      <td>elizabeth</td>\n      <td>thieme</td>\n      <td>2014-03-16</td>\n      <td>Female</td>\n      <td>1976-06-03</td>\n      <td>39</td>\n      <td>25 - 45</td>\n      <td>Caucasian</td>\n      <td>...</td>\n      <td>1</td>\n      <td>Low</td>\n      <td>2014-03-16</td>\n      <td>2014-03-15</td>\n      <td>2014-03-18</td>\n      <td>0</td>\n      <td>2</td>\n      <td>747</td>\n      <td>0</td>\n      <td>0</td>\n    </tr>\n    <tr>\n      <th>9</th>\n      <td>13</td>\n      <td>bo bradac</td>\n      <td>bo</td>\n      <td>bradac</td>\n      <td>2013-11-04</td>\n      <td>Male</td>\n      <td>1994-06-10</td>\n      <td>21</td>\n      <td>Less than 25</td>\n      <td>Caucasian</td>\n      <td>...</td>\n      <td>5</td>\n      <td>Medium</td>\n      <td>2013-11-04</td>\n      <td>2015-01-06</td>\n      <td>2015-01-07</td>\n      <td>1</td>\n      <td>0</td>\n      <td>428</td>\n      <td>1</td>\n      <td>1</td>\n    </tr>\n  </tbody>\n</table>\n<p>10 rows × 53 columns</p>\n</div>"
     },
     "execution_count": 2,
     "metadata": {},
     "output_type": "execute_result"
    }
   ],
   "source": [
    "data = pd.read_csv('../../datasets/compas-scores-two-years.csv')\n",
    "data.head(10)"
   ],
   "metadata": {
    "collapsed": false
   }
  },
  {
   "cell_type": "code",
   "execution_count": null,
   "outputs": [],
   "source": [],
   "metadata": {
    "collapsed": false
   }
  }
 ],
 "metadata": {
  "kernelspec": {
   "display_name": "Python 3",
   "language": "python",
   "name": "python3"
  },
  "language_info": {
   "codemirror_mode": {
    "name": "ipython",
    "version": 2
   },
   "file_extension": ".py",
   "mimetype": "text/x-python",
   "name": "python",
   "nbconvert_exporter": "python",
   "pygments_lexer": "ipython2",
   "version": "2.7.6"
  }
 },
 "nbformat": 4,
 "nbformat_minor": 0
}
